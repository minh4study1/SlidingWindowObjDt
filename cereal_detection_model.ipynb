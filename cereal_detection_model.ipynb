{
 "cells": [
  {
   "cell_type": "code",
   "execution_count": 3,
   "id": "6536406d",
   "metadata": {
    "scrolled": false
   },
   "outputs": [
    {
     "name": "stdout",
     "output_type": "stream",
     "text": [
      "Found 42 images belonging to 2 classes.\n",
      "Found 42 images belonging to 2 classes.\n",
      "Epoch 1/10\n",
      "1/1 [==============================] - 4s 4s/step - loss: 0.6978 - accuracy: 0.6562 - val_loss: 0.8282 - val_accuracy: 0.6250\n",
      "Epoch 2/10\n",
      "1/1 [==============================] - 1s 1s/step - loss: 0.7944 - accuracy: 0.6000 - val_loss: 3.4589 - val_accuracy: 0.6875\n",
      "Epoch 3/10\n",
      "1/1 [==============================] - 1s 1s/step - loss: 1.6313 - accuracy: 0.9000 - val_loss: 2.0206 - val_accuracy: 0.6875\n",
      "Epoch 4/10\n",
      "1/1 [==============================] - 2s 2s/step - loss: 2.0081 - accuracy: 0.7500 - val_loss: 0.6688 - val_accuracy: 0.6562\n",
      "Epoch 5/10\n",
      "1/1 [==============================] - 1s 1s/step - loss: 0.7328 - accuracy: 0.7000 - val_loss: 0.4349 - val_accuracy: 1.0000\n",
      "Epoch 6/10\n",
      "1/1 [==============================] - 2s 2s/step - loss: 0.4640 - accuracy: 0.9375 - val_loss: 0.3734 - val_accuracy: 0.9375\n",
      "Epoch 7/10\n",
      "1/1 [==============================] - 1s 1s/step - loss: 0.2524 - accuracy: 1.0000 - val_loss: 0.8650 - val_accuracy: 0.6875\n",
      "Epoch 8/10\n",
      "1/1 [==============================] - 2s 2s/step - loss: 0.8426 - accuracy: 0.6875 - val_loss: 0.2629 - val_accuracy: 0.9375\n",
      "Epoch 9/10\n",
      "1/1 [==============================] - 1s 1s/step - loss: 0.2546 - accuracy: 0.9000 - val_loss: 0.2406 - val_accuracy: 0.9375\n",
      "Epoch 10/10\n",
      "1/1 [==============================] - 1s 1s/step - loss: 0.2519 - accuracy: 0.9000 - val_loss: 0.1729 - val_accuracy: 0.9688\n",
      "INFO:tensorflow:Assets written to: cereal_detection_model\\assets\n"
     ]
    },
    {
     "name": "stderr",
     "output_type": "stream",
     "text": [
      "INFO:tensorflow:Assets written to: cereal_detection_model\\assets\n"
     ]
    }
   ],
   "source": [
    "import tensorflow as tf\n",
    "from tensorflow.keras import layers, models\n",
    "from tensorflow.keras.preprocessing.image import ImageDataGenerator\n",
    "\n",
    "# Thiết lập tham số cho mô hình\n",
    "img_width, img_height = 224, 224\n",
    "input_shape = (img_width, img_height, 3)\n",
    "batch_size = 32\n",
    "epochs = 10\n",
    "\n",
    "# Khai báo đường dẫn đến thư mục chứa dữ liệu\n",
    "train_data_dir = 'D:\\\\OneDrive - tuyenquang.edu.vn\\\\Docs\\\\Tài liệu học tập real\\\\nam4\\\\xla\\\\Train'\n",
    "validation_data_dir = 'D:\\\\OneDrive - tuyenquang.edu.vn\\\\Docs\\\\Tài liệu học tập real\\\\nam4\\\\xla\\\\Valid'\n",
    "\n",
    "# Sử dụng ImageDataGenerator để tạo dữ liệu huấn luyện và kiểm thử từ thư mục\n",
    "train_datagen = ImageDataGenerator(rescale=1./255, shear_range=0.2, zoom_range=0.2, horizontal_flip=True)\n",
    "test_datagen = ImageDataGenerator(rescale=1./255)\n",
    "\n",
    "train_generator = train_datagen.flow_from_directory(train_data_dir, target_size=(img_width, img_height),\n",
    "                                                    batch_size=batch_size, class_mode='binary')\n",
    "\n",
    "validation_generator = test_datagen.flow_from_directory(validation_data_dir, target_size=(img_width, img_height),\n",
    "                                                        batch_size=batch_size, class_mode='binary')\n",
    "\n",
    "# Xây dựng mô hình CNN đơn giản\n",
    "model = models.Sequential()\n",
    "model.add(layers.Conv2D(32, (3, 3), input_shape=input_shape, activation='relu'))\n",
    "model.add(layers.MaxPooling2D((2, 2)))\n",
    "model.add(layers.Conv2D(64, (3, 3), activation='relu'))\n",
    "model.add(layers.MaxPooling2D((2, 2)))\n",
    "model.add(layers.Conv2D(128, (3, 3), activation='relu'))\n",
    "model.add(layers.MaxPooling2D((2, 2)))\n",
    "model.add(layers.Flatten())\n",
    "model.add(layers.Dense(128, activation='relu'))\n",
    "model.add(layers.Dropout(0.5))\n",
    "model.add(layers.Dense(1, activation='sigmoid'))\n",
    "\n",
    "# Biên soạn và huấn luyện mô hình\n",
    "model.compile(optimizer='adam', loss='binary_crossentropy', metrics=['accuracy'])\n",
    "\n",
    "model.fit(train_generator, steps_per_epoch=train_generator.samples // batch_size,\n",
    "          validation_data=validation_generator, validation_steps=validation_generator.samples // batch_size,\n",
    "          epochs=epochs)\n",
    "\n",
    "# Lưu mô hình\n",
    "model.save('cereal_detection_model')\n"
   ]
  },
  {
   "cell_type": "code",
   "execution_count": null,
   "id": "a24e3047",
   "metadata": {},
   "outputs": [],
   "source": []
  }
 ],
 "metadata": {
  "kernelspec": {
   "display_name": "Python 3 (ipykernel)",
   "language": "python",
   "name": "python3"
  },
  "language_info": {
   "codemirror_mode": {
    "name": "ipython",
    "version": 3
   },
   "file_extension": ".py",
   "mimetype": "text/x-python",
   "name": "python",
   "nbconvert_exporter": "python",
   "pygments_lexer": "ipython3",
   "version": "3.11.4"
  }
 },
 "nbformat": 4,
 "nbformat_minor": 5
}
